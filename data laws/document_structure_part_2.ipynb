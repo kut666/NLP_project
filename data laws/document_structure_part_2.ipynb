{
 "cells": [
  {
   "cell_type": "markdown",
   "id": "d1696e92",
   "metadata": {},
   "source": [
    "## Importing libraries"
   ]
  },
  {
   "cell_type": "code",
   "execution_count": 1,
   "id": "a795c2f4",
   "metadata": {},
   "outputs": [],
   "source": [
    "import os \n",
    "import re\n",
    "import string\n",
    "\n",
    "from tqdm.auto import tqdm\n",
    "from razdel import sentenize"
   ]
  },
  {
   "cell_type": "markdown",
   "id": "263e0f0b",
   "metadata": {},
   "source": [
    "## Document desctiption\n",
    "\n",
    "The document consists of three sections:\n",
    "- the first section publishes the laws of the Republic of Crimea;\n",
    "- in the second section — resolutions of the State Council of the Republic of Crimea;\n",
    "- in the third section — resolutions of the Presidium of the State Council of the Republic Crimea.\n",
    "\n",
    "\n",
    "All articles in second section and third section translated into three languages: Russian, Ukrainian and Crimean Tatar\n",
    "\n",
    "\n",
    "- РАЗДЕЛ ВТОРОЙ (ru) - ЭКИНДЖИ БОЛЮК (crh) - РОЗДІЛ ДРУГИЙ (ua) (section two)\n",
    "- РАЗДЕЛ ТРЕТИЙ (ru) - УЧЮНДЖИ БОЛЮК (crh) - РОЗДІЛ ТРЕТІЙ (ua) (section three)\n"
   ]
  },
  {
   "cell_type": "markdown",
   "id": "27c51279",
   "metadata": {},
   "source": [
    "## Split into language blocks"
   ]
  },
  {
   "cell_type": "code",
   "execution_count": 41,
   "id": "ba5866c9",
   "metadata": {},
   "outputs": [],
   "source": [
    "with open('data/txt_2/2015_1.txt', 'r', encoding='utf-8', errors='ignore') as document:\n",
    "    lines = document.readlines()\n",
    "    line_idxs_section2 = {}\n",
    "    line_idxs_section3 = {'end':[len(lines)-1]}\n",
    "    for idx, line in enumerate(lines):\n",
    "        if line.startswith(('ЭКИНДЖИ БОЛЮК', 'Э КИНДЖИ БОЛЮК')): \n",
    "            if 'crh' not in line_idxs_section2:\n",
    "                line_idxs_section2['crh'] = [idx]\n",
    "            else: \n",
    "                line_idxs_section2['crh'].append(idx)\n",
    "        elif line.startswith(('РАЗДЕЛ ВТОРОЙ', 'Р АЗДЕЛ ВТОРОЙ')):\n",
    "            if 'ru' not in line_idxs_section2:\n",
    "                line_idxs_section2['ru'] = [idx]\n",
    "            else: \n",
    "                line_idxs_section2['ru'].append(idx)\n",
    "        elif line.startswith(('РОЗДІЛ ДРУГИЙ', 'Р ОЗДІЛ ДРУГИЙ')):\n",
    "            if 'ua' not in line_idxs_section2:\n",
    "                line_idxs_section2['ua'] = [idx]\n",
    "            else: \n",
    "                line_idxs_section2['ua'].append(idx)\n",
    "        elif line.startswith(('РАЗДЕЛ ТРЕТИЙ', 'Р АЗДЕЛ ТРЕТИЙ')):\n",
    "            if 'ru_3' not in line_idxs_section2:\n",
    "                line_idxs_section2['ru_3'] = [idx]\n",
    "            else: \n",
    "                line_idxs_section2['ru_3'].append(idx)\n",
    "            if 'ru' not in line_idxs_section3: \n",
    "                line_idxs_section3['ru'] = [idx]\n",
    "            else: \n",
    "                line_idxs_section3['ru'].append(idx)\n",
    "        elif line.startswith(('РОЗДІЛ ТРЕТІЙ', 'Р ОЗДІЛ ТРЕТІЙ')):\n",
    "            if 'ua' not in line_idxs_section3:\n",
    "                line_idxs_section3['ua'] = [idx]\n",
    "            else: \n",
    "                line_idxs_section3['ua'].append(idx)\n",
    "        elif line.startswith(('УЧЮНДЖИ БОЛЮК', 'У ЧЮНДЖИ БОЛЮК')): \n",
    "            if 'crh' not in line_idxs_section3:\n",
    "                line_idxs_section3['crh'] = [idx]\n",
    "            else: \n",
    "                line_idxs_section3['crh'].append(idx)"
   ]
  },
  {
   "cell_type": "code",
   "execution_count": 42,
   "id": "6eaebc5c",
   "metadata": {},
   "outputs": [
    {
     "data": {
      "text/plain": [
       "{'ru': [19, 1527], 'ru_3': [26, 1753], 'ua': [1604], 'crh': [1675]}"
      ]
     },
     "execution_count": 42,
     "metadata": {},
     "output_type": "execute_result"
    }
   ],
   "source": [
    "line_idxs_section2"
   ]
  },
  {
   "cell_type": "code",
   "execution_count": 43,
   "id": "e6feaa53",
   "metadata": {},
   "outputs": [
    {
     "data": {
      "text/plain": [
       "{'end': [2230], 'ru': [26, 1753], 'ua': [2092], 'crh': [2158]}"
      ]
     },
     "execution_count": 43,
     "metadata": {},
     "output_type": "execute_result"
    }
   ],
   "source": [
    "line_idxs_section3"
   ]
  },
  {
   "cell_type": "code",
   "execution_count": 44,
   "id": "7f86593b",
   "metadata": {},
   "outputs": [],
   "source": [
    "idx_section2_sorted = sorted([max(line_idxs_section2[keys]) for keys in line_idxs_section2])\n",
    "idx_section3_sorted = sorted([max(line_idxs_section3[keys]) for keys in line_idxs_section3])"
   ]
  },
  {
   "cell_type": "code",
   "execution_count": 45,
   "id": "c6359884",
   "metadata": {},
   "outputs": [],
   "source": [
    "crh_lines_section2 = lines[max(line_idxs_section2['crh']):idx_section2_sorted[idx_section2_sorted.index(max(line_idxs_section2['crh']))+1]]\n",
    "ru_lines_section2 = lines[max(line_idxs_section2['ru']):idx_section2_sorted[idx_section2_sorted.index(max(line_idxs_section2['ru']))+1]]"
   ]
  },
  {
   "cell_type": "code",
   "execution_count": 46,
   "id": "bbf2c4b4",
   "metadata": {},
   "outputs": [],
   "source": [
    "crh_lines_section3 = lines[max(line_idxs_section3['crh']):idx_section3_sorted[idx_section3_sorted.index(max(line_idxs_section3['crh']))+1]]\n",
    "ru_lines_section3 = lines[max(line_idxs_section3['ru']):idx_section3_sorted[idx_section3_sorted.index(max(line_idxs_section3['ru']))+1]]"
   ]
  },
  {
   "cell_type": "markdown",
   "id": "6432bfed",
   "metadata": {},
   "source": [
    "The structure **includes** two types of articles:\n",
    "- ПОСТАНОВЛЕНИЕ ГОСУДАРСТВЕННОГО СОВЕТА РЕСПУБЛИКИ КРЫМ (ru) - КЪЫРЫМ ДЖУМХУРИЕТИ ДЕВЛЕТ ШУРАСЫНЫНЪ КЪАРАРЫ (crh) (resolution of the State Council of the Republic of Crimea)\n",
    "- ПОСТАНОВЛЕНИЕ ПРЕЗИДИУМА ГОСУДАРСТВЕННОГО СОВЕТА РЕСПУБЛИКИ КРЫМ (ru) - КЪЫРЫМ ДЖУМХУРИЕТИ ДЕВЛЕТ ШУРАСЫ ПРЕЗИДИУМЫНЫНЪ КЪАРАРЫ (crh) (resolution of the Presidium of the State Council of the Republic of Crimea)\n",
    "\n",
    "Resolution of the **State Council** of the Republic of Crimea ends with frase:\n",
    "- Председатель Государственного Совета Республики Крым (ru) - Къырым Джумхуриети Девлет Шурасынынъ Реиси (crh) (Chairman of the State Council of the Republic of Crimea)\n",
    "\n",
    "Resolution of the **Presidium of the State Council** of the Republic of Crimea also ends with frase:\n",
    "- Председатель Государственного Совета Республики Крым (ru) - Къырым Джумхуриети Девлет Шурасынынъ Реиси (crh) (Chairman of the State Council of the Republic of Crimea) "
   ]
  },
  {
   "cell_type": "markdown",
   "id": "5f3af77c",
   "metadata": {},
   "source": [
    "Let's start with section 2: "
   ]
  },
  {
   "cell_type": "code",
   "execution_count": 52,
   "id": "e32d814f",
   "metadata": {},
   "outputs": [],
   "source": [
    "crh_idx_list_section2=[]\n",
    "for idx, line in enumerate(crh_lines_section2):\n",
    "    line = line.strip()\n",
    "    if 'КЪЫРЫМ ДЖУМХУРИЕТИ' == line:\n",
    "        crh_idx_list_section2.append([idx])\n",
    "    if line.startswith('Къырым Джумхуриети Девлет Шурасынынъ Реиси'): \n",
    "        if len(crh_idx_list_section2) < 1: \n",
    "            continue\n",
    "        elif len(crh_idx_list_section2[-1]) != 1:\n",
    "            continue\n",
    "        else: \n",
    "            crh_idx_list_section2[-1].append(idx)"
   ]
  },
  {
   "cell_type": "code",
   "execution_count": 53,
   "id": "ad744df5",
   "metadata": {},
   "outputs": [
    {
     "data": {
      "text/plain": [
       "[[1, 30], [35, 74]]"
      ]
     },
     "execution_count": 53,
     "metadata": {},
     "output_type": "execute_result"
    }
   ],
   "source": [
    "crh_idx_list_section2"
   ]
  },
  {
   "cell_type": "code",
   "execution_count": 54,
   "id": "d9f874cf",
   "metadata": {},
   "outputs": [],
   "source": [
    "ru_idx_list_section2=[]\n",
    "for idx, line in enumerate(ru_lines_section2): \n",
    "    line = line.strip()\n",
    "    if 'ПОСТАНОВЛЕНИЕ' == line:\n",
    "        ru_idx_list_section2.append([idx])\n",
    "    if line.startswith('Председатель Государственного Совета Республики Крым'): \n",
    "        if len(ru_idx_list_section2) < 1: \n",
    "            continue\n",
    "        elif len(ru_idx_list_section2[-1]) != 1:\n",
    "            continue\n",
    "        else: \n",
    "            ru_idx_list_section2[-1].append(idx)"
   ]
  },
  {
   "cell_type": "code",
   "execution_count": 58,
   "id": "7e6054c5",
   "metadata": {},
   "outputs": [
    {
     "data": {
      "text/plain": [
       "[[1, 30], [35, 73]]"
      ]
     },
     "execution_count": 58,
     "metadata": {},
     "output_type": "execute_result"
    }
   ],
   "source": [
    "ru_idx_list_section2"
   ]
  },
  {
   "cell_type": "code",
   "execution_count": 59,
   "id": "a9ffb82f",
   "metadata": {},
   "outputs": [
    {
     "data": {
      "text/plain": [
       "[[1, 30], [35, 74]]"
      ]
     },
     "execution_count": 59,
     "metadata": {},
     "output_type": "execute_result"
    }
   ],
   "source": [
    "crh_idx_list_section2"
   ]
  },
  {
   "cell_type": "code",
   "execution_count": 60,
   "id": "67f057ba",
   "metadata": {},
   "outputs": [
    {
     "data": {
      "text/plain": [
       "['ПОСТАНОВЛЕНИЕ  \\n',\n",
       " 'ГОСУДАРСТВЕННОГО СОВЕТА РЕСПУБЛИКИ КРЫМ\\n',\n",
       " 'ОБ ОБР АЗОВАНИИ СЕКРЕТАРИАТА ВНЕОЧЕРЕДНОЙ СЕССИИ  \\n',\n",
       " 'ГОСУДАРСТВЕННОГО СОВЕТА РЕСПУБЛИКИ КРЫМ ПЕРВОГО \\n',\n",
       " 'СОЗЫВА\\n',\n",
       " 'В соответствии со статьей 75 Конституции Республики Крым, статьей 44 Регламента Го -\\n',\n",
       " 'сударственного Совета Республики Крым, утвержденного Постановлением Государственного \\n',\n",
       " 'Совета Республики Крым от 24 декабря 2014 года № 376-1/14,\\n',\n",
       " 'Государственный Совет Республики Крым  п о с т а н о в л я е т:\\n',\n",
       " '1. Установить численность секретариата внеочередной сессии Государственного Совета \\n',\n",
       " 'Республики Крым первого созыва в количестве    5 человек.\\n',\n",
       " '2. Избрать секретариат внеочередной сессии Государственного Совета Республики Крым \\n',\n",
       " 'первого созыва в следующем составе:\\n',\n",
       " 'Георгиади Лариса Федоровна — депутат, избранный по республиканскому списку кан -\\n',\n",
       " 'дидатов Крымского регионального отделения Всероссийской политической партии «ЕДИНАЯ \\n',\n",
       " 'РОССИЯ»; \\n',\n",
       " 'Лантух Наталья Андреевна — депутат, избранный по республиканскому списку кан -\\n',\n",
       " 'дидатов Крымского регионального отделения Всероссийской политической партии «ЕДИНАЯ \\n',\n",
       " 'РОССИЯ»; \\n',\n",
       " 'Матвеев Станислав Олегович — депутат, избранный по республиканскому списку кан -\\n',\n",
       " 'дидатов Крымского регионального отделения Всероссийской политической партии «ЕДИНАЯ \\n',\n",
       " 'РОССИЯ»; \\n',\n",
       " 'Юрьев Юрий Юрьевич — депутат, избранный по республиканскому списку кандидатов \\n',\n",
       " 'Крымского регионального отделения Политической партии ЛДПР — Либерально-демократи -\\n',\n",
       " 'ческой партии России; \\n',\n",
       " 'Ясинский Владимир Борисович — депутат, избранный по республиканскому спи -\\n',\n",
       " 'ску кандидатов Крымского регионального отделения Всероссийской политической партии  \\n',\n",
       " '«ЕДИНАЯ РОССИЯ».\\n',\n",
       " '3. Настоящее Постановление вступает в силу со дня принятия.\\n']"
      ]
     },
     "execution_count": 60,
     "metadata": {},
     "output_type": "execute_result"
    }
   ],
   "source": [
    "ru_lines_section2[1:30]"
   ]
  },
  {
   "cell_type": "code",
   "execution_count": 61,
   "id": "6feef8b8",
   "metadata": {},
   "outputs": [
    {
     "data": {
      "text/plain": [
       "['КЪЫРЫМ ДЖУМХУРИЕТИ \\n',\n",
       " 'ДЕВЛЕТ ШУР АСЫНЫНЪ КЪАР АРЫ\\n',\n",
       " 'БИРИНДЖИ ЧАГЪЫРЫШ КЪЫРЫМ ДЖУМХУРИЕТИ ДЕВЛЕТ  \\n',\n",
       " 'ШУР АСЫНЫНЪ НЕВБЕТТЕН ТЫШ СЕССИЯНЫНЪ КЯТИБЛИГИ -\\n',\n",
       " 'НИ ТЕШКИЛЬ ЭТИЛЬМЕСИ АКЪКЪЫНДА\\n',\n",
       " 'Къырым Джумхуриети Анаясасынынъ 75 маддесине, 2014 сенеси декабрь 24-те Къы -\\n',\n",
       " 'рым Джумхуриети Девлет Шурасынынъ 376-1/14 санлы Къарарынен тасдикълангъан Къырым \\n',\n",
       " 'Джумхуриети Девлет Шурасы Регламентининъ 21 маддесине мувафыкъ\\n',\n",
       " 'Къырым Джумхуриетининъ Девлет Шурасы  к ъ а р а р  б е р е: \\n',\n",
       " '1. Биринджи чагъырыш Къырым Джумхуриети Девлет Шурасынынъ невбеттен тыш сес -\\n',\n",
       " 'сиянынъ кятиблиги 5 инсан микъдарында тайинленсин.\\n',\n",
       " '2. Биринджи чагъырыш Къырым Джумхуриети Девлет Шурасынынъ невбеттен тыш сес -\\n',\n",
       " 'сиянынъ кятиблиги ашагъыдаки теркипте тешкиль олунсын:\\n',\n",
       " 'Георгиади Лариса Федоровна — «РУСИЕ БИРЛИГИ» Умумрусие сиясий фыркъасы \\n',\n",
       " 'Къырым джумхуриет болюгининъ джумхурий кандидатлар джедвели боюнджа сайлангъан \\n',\n",
       " 'депутаты; \\n',\n",
       " 'Лантух Наталья Андреевна — «РУСИЕ БИРЛИГИ» Умумрусие сиясий фыркъасы Къы -\\n',\n",
       " 'рым джумхуриет болюгининъ джумхурий кандидатлар джедвели боюнджа сайлангъан депу -\\n',\n",
       " 'таты; \\n',\n",
       " 'Матвеев Станислав Олегович — «РУСИЕ БИРЛИГИ» Умумрусие сиясий фыркъасы \\n',\n",
       " 'Къырым джумхуриет болюгининъ джумхурий кандидатлар джедвели боюнджа сайлангъан \\n',\n",
       " 'депутаты; \\n',\n",
       " 'Юрьев Юрий Юрьевич — Русие либераль-демократик фыркъасы — «РЛДФ» Сиясий \\n',\n",
       " 'фыркъасы Къырым джумхуриет болюгининъ джумхурий кандидатлар джедвели боюнджа \\n',\n",
       " 'сайлангъан депутаты;\\n',\n",
       " 'Ясинский Владимир Борисович — «РУСИЕ БИРЛИГИ» Умумрусие сиясий фыркъасы \\n',\n",
       " 'Къырым джумхуриет болюгининъ джумхурий кандидатлар джедвели боюнджа сайлангъан \\n',\n",
       " 'депутаты\\n',\n",
       " '3. Мезкюр Къарар къабул этильген кунюнден амельге кечириле.\\n']"
      ]
     },
     "execution_count": 61,
     "metadata": {},
     "output_type": "execute_result"
    }
   ],
   "source": [
    "crh_lines_section2[1:30]"
   ]
  },
  {
   "cell_type": "markdown",
   "id": "172428cd",
   "metadata": {},
   "source": [
    "Working at section three: "
   ]
  },
  {
   "cell_type": "code",
   "execution_count": 63,
   "id": "7c7f4377",
   "metadata": {},
   "outputs": [],
   "source": [
    "crh_idx_list_section3=[]\n",
    "for idx, line in enumerate(crh_lines_section3):\n",
    "    line = line.strip()\n",
    "    if 'КЪЫРЫМ ДЖУМХУРИЕТИ' == line:\n",
    "        crh_idx_list_section3.append([idx])\n",
    "    if line.startswith('Къырым Джумхуриети Девлет Шурасынынъ Реиси'): \n",
    "        if len(crh_idx_list_section3) < 1: \n",
    "            continue\n",
    "        elif len(crh_idx_list_section3[-1]) != 1:\n",
    "            continue\n",
    "        else: \n",
    "            crh_idx_list_section3[-1].append(idx)"
   ]
  },
  {
   "cell_type": "code",
   "execution_count": 64,
   "id": "fa1a9762",
   "metadata": {},
   "outputs": [
    {
     "data": {
      "text/plain": [
       "[[1, 16], [20, 42], [46, 68]]"
      ]
     },
     "execution_count": 64,
     "metadata": {},
     "output_type": "execute_result"
    }
   ],
   "source": [
    "crh_idx_list_section3"
   ]
  },
  {
   "cell_type": "code",
   "execution_count": 65,
   "id": "ba2fcdc7",
   "metadata": {},
   "outputs": [],
   "source": [
    "ru_idx_list_section3=[]\n",
    "for idx, line in enumerate(ru_lines_section3): \n",
    "    line = line.strip()\n",
    "    if 'ПОСТАНОВЛЕНИЕ ПРЕЗИДИУМА' == line:\n",
    "        ru_idx_list_section3.append([idx])\n",
    "    if line.startswith('Председатель Государственного Совета Республики Крым'): \n",
    "        if len(ru_idx_list_section3) < 1: \n",
    "            continue\n",
    "        elif len(ru_idx_list_section3[-1]) != 1:\n",
    "            continue\n",
    "        else: \n",
    "            ru_idx_list_section3[-1].append(idx)"
   ]
  },
  {
   "cell_type": "code",
   "execution_count": 66,
   "id": "e7d27e6c",
   "metadata": {},
   "outputs": [
    {
     "data": {
      "text/plain": [
       "[[1, 16], [71, 87], [274, 295]]"
      ]
     },
     "execution_count": 66,
     "metadata": {},
     "output_type": "execute_result"
    }
   ],
   "source": [
    "ru_idx_list_section3"
   ]
  },
  {
   "cell_type": "markdown",
   "id": "d88d7e0c",
   "metadata": {},
   "source": [
    "## Text preprocessing"
   ]
  },
  {
   "cell_type": "code",
   "execution_count": 67,
   "id": "6c0ba959",
   "metadata": {},
   "outputs": [],
   "source": [
    "def clean_article(article: list[str]) -> str: \n",
    "    text = \" \".join(line.strip() for line in article) \n",
    "    text = text.lower().replace('- ', '')\n",
    "    matches = re.findall(r\"((?:[а-яА-я]\\s){3,}[а-яА-я])\", text)\n",
    "    for match in matches: \n",
    "        text = text.replace(match, \"\".join(match.split()))\n",
    "    return text "
   ]
  },
  {
   "cell_type": "code",
   "execution_count": 69,
   "id": "ac01f850",
   "metadata": {},
   "outputs": [
    {
     "name": "stdout",
     "output_type": "stream",
     "text": [
      "къырым джумхуриети девлет шур асы президиумынынъ къар ары къырымнынъ русиеге къошу лмасына бир йыл толма мунасебетинен кутьлеме азыр лыгъы акъкъында 2011 сенеси декабрь 29-да къабул олунгъан «къырым джумхуриетинде байрам ве ресмий куньлер акъкъында» 55-къджкъ/2014 санлы къырым джумхуриети къанунына, къырымнынъ русиеге къошулмасына бир йыл толма мунасебетинен кутьлеме азырлыгъы макъсадынен, къырым джумхуриети девлет шурасынынъ президиумы  къарар  бере: 1. къырымнынъ русиеге къошулмасына бир йыл толма мунасебетинен кутьлеме азыр лыгъы боюнджа тешкилий комитет къурулсын. 2. къырымнынъ русиеге къошулмасына бир йыл толма мунасебетинен кутьлеме азыр лыгъы боюнджа тешкилий комитетнинъ теркиби тасдикълансын (иляве этиле)*. 3. къырымнынъ русиеге къошулмасына бир йыл толма мунасебетинен кутьлеме азыр лыгъы боюнджа тешкилий комитет къырымнынъ русиеге къошулмасына бир йыл толма му насебетинен кутьлеме тедбир планы азырласын.\n"
     ]
    }
   ],
   "source": [
    "crh = clean_article(crh_lines_section3[1:16])\n",
    "print(crh)"
   ]
  },
  {
   "cell_type": "code",
   "execution_count": 70,
   "id": "58acb4dc",
   "metadata": {},
   "outputs": [
    {
     "name": "stdout",
     "output_type": "stream",
     "text": [
      "постановление президиума государственного совета республики крым о подготовке к пр азднованию первой годовщины воссоединения крыма с россией в соответствии с законом республики крым от 29 декабря 2014 года № 55-зрк/2014 «о праздниках и памятных датах в республике крым», с целью подготовки к празднованию первой годовщины воссоединения крыма с россией президиум государственного совета республики крым  постановляет: 1. образовать организационный комитет по подготовке к празднованию первой годовщи ны воссоединения крыма с россией. 2. утвердить состав организационного комитета по подготовке к празднованию первой годовщины воссоединения крыма с россией (прилагается). 3. организационному комитету по подготовке к празднованию первой годовщины воссо единения крыма с россией подготовить план мероприятий по празднованию первой годовщи ны воссоединения крыма с россией.\n"
     ]
    }
   ],
   "source": [
    "ru = clean_article(ru_lines_section3[1:16])\n",
    "print(ru)"
   ]
  },
  {
   "cell_type": "markdown",
   "id": "20269acd",
   "metadata": {},
   "source": [
    "## Spliting into sub-paragraphs of the law"
   ]
  },
  {
   "cell_type": "code",
   "execution_count": 71,
   "id": "c857891a",
   "metadata": {},
   "outputs": [],
   "source": [
    "crh_sentences = [sent.strip() for sent in re.split('(?:\\d{1,}\\.)+', crh)]"
   ]
  },
  {
   "cell_type": "code",
   "execution_count": 72,
   "id": "85396353",
   "metadata": {},
   "outputs": [
    {
     "data": {
      "text/plain": [
       "['къырым джумхуриети девлет шур асы президиумынынъ къар ары къырымнынъ русиеге къошу лмасына бир йыл толма мунасебетинен кутьлеме азыр лыгъы акъкъында 2011 сенеси декабрь 29-да къабул олунгъан «къырым джумхуриетинде байрам ве ресмий куньлер акъкъында» 55-къджкъ/2014 санлы къырым джумхуриети къанунына, къырымнынъ русиеге къошулмасына бир йыл толма мунасебетинен кутьлеме азырлыгъы макъсадынен, къырым джумхуриети девлет шурасынынъ президиумы  къарар  бере:',\n",
       " 'къырымнынъ русиеге къошулмасына бир йыл толма мунасебетинен кутьлеме азыр лыгъы боюнджа тешкилий комитет къурулсын.',\n",
       " 'къырымнынъ русиеге къошулмасына бир йыл толма мунасебетинен кутьлеме азыр лыгъы боюнджа тешкилий комитетнинъ теркиби тасдикълансын (иляве этиле)*.',\n",
       " 'къырымнынъ русиеге къошулмасына бир йыл толма мунасебетинен кутьлеме азыр лыгъы боюнджа тешкилий комитет къырымнынъ русиеге къошулмасына бир йыл толма му насебетинен кутьлеме тедбир планы азырласын.']"
      ]
     },
     "execution_count": 72,
     "metadata": {},
     "output_type": "execute_result"
    }
   ],
   "source": [
    "crh_sentences"
   ]
  },
  {
   "cell_type": "code",
   "execution_count": 73,
   "id": "bfd9d2ec",
   "metadata": {},
   "outputs": [],
   "source": [
    "ru_sentences = [sent.strip() for sent in re.split('(?:\\d{1,}\\.)+', ru)]"
   ]
  },
  {
   "cell_type": "code",
   "execution_count": 74,
   "id": "0ab6ed58",
   "metadata": {},
   "outputs": [
    {
     "data": {
      "text/plain": [
       "['постановление президиума государственного совета республики крым о подготовке к пр азднованию первой годовщины воссоединения крыма с россией в соответствии с законом республики крым от 29 декабря 2014 года № 55-зрк/2014 «о праздниках и памятных датах в республике крым», с целью подготовки к празднованию первой годовщины воссоединения крыма с россией президиум государственного совета республики крым  постановляет:',\n",
       " 'образовать организационный комитет по подготовке к празднованию первой годовщи ны воссоединения крыма с россией.',\n",
       " 'утвердить состав организационного комитета по подготовке к празднованию первой годовщины воссоединения крыма с россией (прилагается).',\n",
       " 'организационному комитету по подготовке к празднованию первой годовщины воссо единения крыма с россией подготовить план мероприятий по празднованию первой годовщи ны воссоединения крыма с россией.']"
      ]
     },
     "execution_count": 74,
     "metadata": {},
     "output_type": "execute_result"
    }
   ],
   "source": [
    "ru_sentences"
   ]
  },
  {
   "cell_type": "markdown",
   "id": "e7d90e5f",
   "metadata": {},
   "source": [
    "---"
   ]
  },
  {
   "cell_type": "markdown",
   "id": "0358b74a",
   "metadata": {},
   "source": [
    "Some sub-paragraphs of the law could be splited into sentences. We use for this purpose razdel from [Natasha](https://github.com/natasha/razdel)."
   ]
  },
  {
   "cell_type": "code",
   "execution_count": 75,
   "id": "345daf2b",
   "metadata": {},
   "outputs": [],
   "source": [
    "crh_sentences = list(sentenize(crh))\n",
    "ru_sentences = list(sentenize(ru))"
   ]
  },
  {
   "cell_type": "code",
   "execution_count": 77,
   "id": "d2224b7b",
   "metadata": {
    "scrolled": true
   },
   "outputs": [
    {
     "name": "stdout",
     "output_type": "stream",
     "text": [
      "къырым джумхуриети девлет шур асы президиумынынъ къар ары къырымнынъ русиеге къошу лмасына бир йыл толма мунасебетинен кутьлеме азыр лыгъы акъкъында 2011 сенеси декабрь 29-да къабул олунгъан «къырым джумхуриетинде байрам ве ресмий куньлер акъкъында» 55-къджкъ/2014 санлы къырым джумхуриети къанунына, къырымнынъ русиеге къошулмасына бир йыл толма мунасебетинен кутьлеме азырлыгъы макъсадынен, къырым джумхуриети девлет шурасынынъ президиумы  къарар  бере: 1. къырымнынъ русиеге къошулмасына бир йыл толма мунасебетинен кутьлеме азыр лыгъы боюнджа тешкилий комитет къурулсын.\n",
      "\n",
      "постановление президиума государственного совета республики крым о подготовке к пр азднованию первой годовщины воссоединения крыма с россией в соответствии с законом республики крым от 29 декабря 2014 года № 55-зрк/2014 «о праздниках и памятных датах в республике крым», с целью подготовки к празднованию первой годовщины воссоединения крыма с россией президиум государственного совета республики крым  постановляет: 1. образовать организационный комитет по подготовке к празднованию первой годовщи ны воссоединения крыма с россией.\n",
      "\n",
      "\n",
      "2. къырымнынъ русиеге къошулмасына бир йыл толма мунасебетинен кутьлеме азыр лыгъы боюнджа тешкилий комитетнинъ теркиби тасдикълансын (иляве этиле)*.\n",
      "\n",
      "2. утвердить состав организационного комитета по подготовке к празднованию первой годовщины воссоединения крыма с россией (прилагается).\n",
      "\n",
      "\n",
      "3. къырымнынъ русиеге къошулмасына бир йыл толма мунасебетинен кутьлеме азыр лыгъы боюнджа тешкилий комитет къырымнынъ русиеге къошулмасына бир йыл толма му насебетинен кутьлеме тедбир планы азырласын.\n",
      "\n",
      "3. организационному комитету по подготовке к празднованию первой годовщины воссо единения крыма с россией подготовить план мероприятий по празднованию первой годовщи ны воссоединения крыма с россией.\n",
      "\n",
      "\n"
     ]
    }
   ],
   "source": [
    "for s1, s2 in zip(crh_sentences, ru_sentences):\n",
    "    print(s1.text)\n",
    "    print()\n",
    "    print(s2.text)\n",
    "    print()\n",
    "    print()"
   ]
  },
  {
   "cell_type": "markdown",
   "id": "98c10d3c",
   "metadata": {},
   "source": [
    "___"
   ]
  }
 ],
 "metadata": {
  "kernelspec": {
   "display_name": "Python 3 (ipykernel)",
   "language": "python",
   "name": "python3"
  },
  "language_info": {
   "codemirror_mode": {
    "name": "ipython",
    "version": 3
   },
   "file_extension": ".py",
   "mimetype": "text/x-python",
   "name": "python",
   "nbconvert_exporter": "python",
   "pygments_lexer": "ipython3",
   "version": "3.9.13"
  }
 },
 "nbformat": 4,
 "nbformat_minor": 5
}
