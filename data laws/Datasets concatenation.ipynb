{
 "cells": [
  {
   "cell_type": "code",
   "execution_count": 15,
   "id": "6e682939",
   "metadata": {},
   "outputs": [],
   "source": [
    "import os \n",
    "import re\n",
    "from nltk.tokenize import word_tokenize"
   ]
  },
  {
   "cell_type": "code",
   "execution_count": 18,
   "id": "fd471875",
   "metadata": {},
   "outputs": [],
   "source": [
    "import numpy as np"
   ]
  },
  {
   "cell_type": "code",
   "execution_count": 35,
   "id": "92b4c773",
   "metadata": {},
   "outputs": [],
   "source": [
    "from sklearn.utils import shuffle"
   ]
  },
  {
   "cell_type": "code",
   "execution_count": 36,
   "id": "e68a85b3",
   "metadata": {},
   "outputs": [],
   "source": [
    "tsybrik = pd.read_csv('data/output merged/tsybrik.csv',  sep=';')   \n",
    "makhmudov = pd.read_csv('data/output merged/makhmudov.csv',  sep=';', names=[\"CRH\", \"RU\"])   \n",
    "korzh = pd.read_csv('data/output merged/korzh.csv',  sep=';')   "
   ]
  },
  {
   "cell_type": "code",
   "execution_count": 37,
   "id": "4ee27c4d",
   "metadata": {},
   "outputs": [],
   "source": [
    "df_concat = pd.concat([tsybrik, korzh], axis=0)\n",
    "df_concat = pd.concat([df_concat, korzh], axis=0)"
   ]
  },
  {
   "cell_type": "code",
   "execution_count": 38,
   "id": "c9507016",
   "metadata": {},
   "outputs": [],
   "source": [
    "df_concat = shuffle(df_concat)"
   ]
  },
  {
   "cell_type": "code",
   "execution_count": 40,
   "id": "85d97387",
   "metadata": {},
   "outputs": [],
   "source": [
    "df_concat = df_concat.dropna()"
   ]
  },
  {
   "cell_type": "code",
   "execution_count": 41,
   "id": "d18788b6",
   "metadata": {},
   "outputs": [],
   "source": [
    "df_concat.to_csv('data/output merged/data.tsv', index=False, sep=\"\\t\")"
   ]
  },
  {
   "cell_type": "code",
   "execution_count": 48,
   "id": "c23d1dab",
   "metadata": {},
   "outputs": [],
   "source": [
    "filename = \"data/output merged/data.tsv\"\n",
    "filename_clean = \"data/output merged/data_cleaned.tsv\"\n",
    "with open(filename, \"r\", encoding=\"utf-8\", errors=\"ignore\") as document_to_read, \\\n",
    "open(filename_clean, \"a\", encoding=\"utf-8\") as document_to_write:\n",
    "    lines = document_to_read.readlines()\n",
    "    for line in lines:\n",
    "        try:\n",
    "            [kir, ru] = line.split(\"\\t\")\n",
    "            kir = kir.strip()\n",
    "            ru = ru.strip()\n",
    "            tokens_kir = word_tokenize(kir)\n",
    "            tokens_ru = word_tokenize(ru)\n",
    "            words_kir = [word.lower() for word in tokens_kir if word.isalpha()][:50]\n",
    "            words_ru = [word.lower() for word in tokens_ru if word.isalpha()][:50] \n",
    "            crh = ' '.join(words_kir)\n",
    "            rus = ' '.join(words_ru)\n",
    "            document_to_write.write(crh + \"\\t\" + rus + \"\\n\")\n",
    "        except ValueError:\n",
    "            continue\n",
    "document_to_read.close()\n",
    "document_to_write.close()        "
   ]
  },
  {
   "cell_type": "code",
   "execution_count": 49,
   "id": "7cd18669",
   "metadata": {},
   "outputs": [],
   "source": [
    "data = pd.read_csv('data/output merged/data_cleaned.tsv',  sep='\\t')   "
   ]
  },
  {
   "cell_type": "code",
   "execution_count": 50,
   "id": "b590924e",
   "metadata": {},
   "outputs": [
    {
     "name": "stdout",
     "output_type": "stream",
     "text": [
      "<class 'pandas.core.frame.DataFrame'>\n",
      "RangeIndex: 27493 entries, 0 to 27492\n",
      "Data columns (total 2 columns):\n",
      " #   Column  Non-Null Count  Dtype \n",
      "---  ------  --------------  ----- \n",
      " 0   crh     27440 non-null  object\n",
      " 1   ru      26694 non-null  object\n",
      "dtypes: object(2)\n",
      "memory usage: 429.7+ KB\n"
     ]
    }
   ],
   "source": [
    "data.info()"
   ]
  },
  {
   "cell_type": "code",
   "execution_count": 51,
   "id": "bac1a2be",
   "metadata": {},
   "outputs": [],
   "source": [
    "data = data.dropna()"
   ]
  },
  {
   "cell_type": "code",
   "execution_count": 52,
   "id": "c4777207",
   "metadata": {},
   "outputs": [
    {
     "name": "stdout",
     "output_type": "stream",
     "text": [
      "<class 'pandas.core.frame.DataFrame'>\n",
      "Int64Index: 26680 entries, 0 to 27492\n",
      "Data columns (total 2 columns):\n",
      " #   Column  Non-Null Count  Dtype \n",
      "---  ------  --------------  ----- \n",
      " 0   crh     26680 non-null  object\n",
      " 1   ru      26680 non-null  object\n",
      "dtypes: object(2)\n",
      "memory usage: 625.3+ KB\n"
     ]
    }
   ],
   "source": [
    "data.info()"
   ]
  },
  {
   "cell_type": "code",
   "execution_count": 53,
   "id": "a715ab66",
   "metadata": {},
   "outputs": [],
   "source": [
    "data.to_csv('data_cleaned_final.tsv', index=False, sep=\"\\t\")"
   ]
  },
  {
   "cell_type": "code",
   "execution_count": null,
   "id": "aeac8186",
   "metadata": {},
   "outputs": [],
   "source": []
  }
 ],
 "metadata": {
  "kernelspec": {
   "display_name": "Python 3 (ipykernel)",
   "language": "python",
   "name": "python3"
  },
  "language_info": {
   "codemirror_mode": {
    "name": "ipython",
    "version": 3
   },
   "file_extension": ".py",
   "mimetype": "text/x-python",
   "name": "python",
   "nbconvert_exporter": "python",
   "pygments_lexer": "ipython3",
   "version": "3.9.13"
  }
 },
 "nbformat": 4,
 "nbformat_minor": 5
}
