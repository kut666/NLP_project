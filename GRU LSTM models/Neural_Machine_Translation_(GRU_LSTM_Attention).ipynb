{
  "cells": [
    {
      "cell_type": "markdown",
      "metadata": {
        "id": "B9Y7pKgeA3R6"
      },
      "source": [
        "## Mounting Google Drive to Colab"
      ]
    },
    {
      "cell_type": "code",
      "execution_count": null,
      "metadata": {
        "colab": {
          "base_uri": "https://localhost:8080/"
        },
        "id": "WMoGqk8J830s",
        "outputId": "59cd6e7a-aa48-489c-9926-fa32f472cf8f"
      },
      "outputs": [
        {
          "output_type": "stream",
          "name": "stdout",
          "text": [
            "Mounted at /content/drive\n"
          ]
        }
      ],
      "source": [
        "from google.colab import drive\n",
        "drive.mount('/content/drive')"
      ]
    },
    {
      "cell_type": "code",
      "execution_count": null,
      "metadata": {
        "colab": {
          "base_uri": "https://localhost:8080/"
        },
        "id": "B-MqiHtX9unI",
        "outputId": "22207a2e-b7a2-4528-f2b4-413ac70c5982"
      },
      "outputs": [
        {
          "output_type": "stream",
          "name": "stdout",
          "text": [
            "/content/drive/MyDrive/NLP_machine_translation\n"
          ]
        }
      ],
      "source": [
        "cd drive/MyDrive/NLP_machine_translation"
      ]
    },
    {
      "cell_type": "code",
      "execution_count": null,
      "metadata": {
        "id": "wGCQrA-w98SR"
      },
      "outputs": [],
      "source": [
        "import matplotlib.pyplot as plt\n",
        "import utils"
      ]
    },
    {
      "cell_type": "markdown",
      "metadata": {
        "id": "Kb-_pIX-C7IZ"
      },
      "source": [
        "## Instaling libraries for current enviroment"
      ]
    },
    {
      "cell_type": "code",
      "execution_count": null,
      "metadata": {
        "colab": {
          "base_uri": "https://localhost:8080/"
        },
        "id": "1FRXay2FDDN2",
        "outputId": "6f00d261-d1e5-40cb-a891-238421afe395"
      },
      "outputs": [
        {
          "output_type": "stream",
          "name": "stdout",
          "text": [
            "Looking in indexes: https://pypi.org/simple, https://us-python.pkg.dev/colab-wheels/public/simple/\n",
            "Collecting subword-nmt\n",
            "  Downloading subword_nmt-0.3.8-py3-none-any.whl (27 kB)\n",
            "Collecting mock (from subword-nmt)\n",
            "  Downloading mock-5.0.2-py3-none-any.whl (30 kB)\n",
            "Requirement already satisfied: tqdm in /usr/local/lib/python3.10/dist-packages (from subword-nmt) (4.65.0)\n",
            "Installing collected packages: mock, subword-nmt\n",
            "Successfully installed mock-5.0.2 subword-nmt-0.3.8\n",
            "Looking in indexes: https://pypi.org/simple, https://us-python.pkg.dev/colab-wheels/public/simple/\n",
            "Requirement already satisfied: nltk in /usr/local/lib/python3.10/dist-packages (3.8.1)\n",
            "Requirement already satisfied: click in /usr/local/lib/python3.10/dist-packages (from nltk) (8.1.3)\n",
            "Requirement already satisfied: joblib in /usr/local/lib/python3.10/dist-packages (from nltk) (1.2.0)\n",
            "Requirement already satisfied: regex>=2021.8.3 in /usr/local/lib/python3.10/dist-packages (from nltk) (2022.10.31)\n",
            "Requirement already satisfied: tqdm in /usr/local/lib/python3.10/dist-packages (from nltk) (4.65.0)\n",
            "Looking in indexes: https://pypi.org/simple, https://us-python.pkg.dev/colab-wheels/public/simple/\n",
            "Collecting torchtext==0.6.0\n",
            "  Downloading torchtext-0.6.0-py3-none-any.whl (64 kB)\n",
            "\u001b[2K     \u001b[90m━━━━━━━━━━━━━━━━━━━━━━━━━━━━━━━━━━━━━━━━\u001b[0m \u001b[32m64.2/64.2 kB\u001b[0m \u001b[31m7.6 MB/s\u001b[0m eta \u001b[36m0:00:00\u001b[0m\n",
            "\u001b[?25hRequirement already satisfied: tqdm in /usr/local/lib/python3.10/dist-packages (from torchtext==0.6.0) (4.65.0)\n",
            "Requirement already satisfied: requests in /usr/local/lib/python3.10/dist-packages (from torchtext==0.6.0) (2.27.1)\n",
            "Requirement already satisfied: torch in /usr/local/lib/python3.10/dist-packages (from torchtext==0.6.0) (2.0.1+cu118)\n",
            "Requirement already satisfied: numpy in /usr/local/lib/python3.10/dist-packages (from torchtext==0.6.0) (1.22.4)\n",
            "Requirement already satisfied: six in /usr/local/lib/python3.10/dist-packages (from torchtext==0.6.0) (1.16.0)\n",
            "Collecting sentencepiece (from torchtext==0.6.0)\n",
            "  Downloading sentencepiece-0.1.99-cp310-cp310-manylinux_2_17_x86_64.manylinux2014_x86_64.whl (1.3 MB)\n",
            "\u001b[2K     \u001b[90m━━━━━━━━━━━━━━━━━━━━━━━━━━━━━━━━━━━━━━━━\u001b[0m \u001b[32m1.3/1.3 MB\u001b[0m \u001b[31m74.3 MB/s\u001b[0m eta \u001b[36m0:00:00\u001b[0m\n",
            "\u001b[?25hRequirement already satisfied: urllib3<1.27,>=1.21.1 in /usr/local/lib/python3.10/dist-packages (from requests->torchtext==0.6.0) (1.26.15)\n",
            "Requirement already satisfied: certifi>=2017.4.17 in /usr/local/lib/python3.10/dist-packages (from requests->torchtext==0.6.0) (2022.12.7)\n",
            "Requirement already satisfied: charset-normalizer~=2.0.0 in /usr/local/lib/python3.10/dist-packages (from requests->torchtext==0.6.0) (2.0.12)\n",
            "Requirement already satisfied: idna<4,>=2.5 in /usr/local/lib/python3.10/dist-packages (from requests->torchtext==0.6.0) (3.4)\n",
            "Requirement already satisfied: filelock in /usr/local/lib/python3.10/dist-packages (from torch->torchtext==0.6.0) (3.12.0)\n",
            "Requirement already satisfied: typing-extensions in /usr/local/lib/python3.10/dist-packages (from torch->torchtext==0.6.0) (4.5.0)\n",
            "Requirement already satisfied: sympy in /usr/local/lib/python3.10/dist-packages (from torch->torchtext==0.6.0) (1.11.1)\n",
            "Requirement already satisfied: networkx in /usr/local/lib/python3.10/dist-packages (from torch->torchtext==0.6.0) (3.1)\n",
            "Requirement already satisfied: jinja2 in /usr/local/lib/python3.10/dist-packages (from torch->torchtext==0.6.0) (3.1.2)\n",
            "Requirement already satisfied: triton==2.0.0 in /usr/local/lib/python3.10/dist-packages (from torch->torchtext==0.6.0) (2.0.0)\n",
            "Requirement already satisfied: cmake in /usr/local/lib/python3.10/dist-packages (from triton==2.0.0->torch->torchtext==0.6.0) (3.25.2)\n",
            "Requirement already satisfied: lit in /usr/local/lib/python3.10/dist-packages (from triton==2.0.0->torch->torchtext==0.6.0) (16.0.5)\n",
            "Requirement already satisfied: MarkupSafe>=2.0 in /usr/local/lib/python3.10/dist-packages (from jinja2->torch->torchtext==0.6.0) (2.1.2)\n",
            "Requirement already satisfied: mpmath>=0.19 in /usr/local/lib/python3.10/dist-packages (from sympy->torch->torchtext==0.6.0) (1.3.0)\n",
            "Installing collected packages: sentencepiece, torchtext\n",
            "  Attempting uninstall: torchtext\n",
            "    Found existing installation: torchtext 0.15.2\n",
            "    Uninstalling torchtext-0.15.2:\n",
            "      Successfully uninstalled torchtext-0.15.2\n",
            "Successfully installed sentencepiece-0.1.99 torchtext-0.6.0\n"
          ]
        }
      ],
      "source": [
        "# You might need to install the libraries below. Do it in the desired environment\n",
        "# if you are working locally.\n",
        "\n",
        "! pip  install subword-nmt\n",
        "! pip install nltk\n",
        "! pip install torchtext==0.6.0"
      ]
    },
    {
      "cell_type": "code",
      "execution_count": null,
      "metadata": {
        "id": "Ig701rC_4U3C"
      },
      "outputs": [],
      "source": [
        "import locale\n",
        "locale.getpreferredencoding = lambda: \"UTF-8\""
      ]
    },
    {
      "cell_type": "code",
      "execution_count": null,
      "metadata": {
        "colab": {
          "base_uri": "https://localhost:8080/"
        },
        "id": "TeupEwwi36wJ",
        "outputId": "c28b3854-32de-45b1-d747-20307df5a41e"
      },
      "outputs": [
        {
          "output_type": "stream",
          "name": "stdout",
          "text": [
            "Looking in indexes: https://pypi.org/simple, https://us-python.pkg.dev/colab-wheels/public/simple/\n",
            "Collecting pytorch-nlp==0.5.0\n",
            "  Downloading pytorch_nlp-0.5.0-py3-none-any.whl (90 kB)\n",
            "\u001b[2K     \u001b[90m━━━━━━━━━━━━━━━━━━━━━━━━━━━━━━━━━━━━━━━━\u001b[0m \u001b[32m90.1/90.1 kB\u001b[0m \u001b[31m9.7 MB/s\u001b[0m eta \u001b[36m0:00:00\u001b[0m\n",
            "\u001b[?25hRequirement already satisfied: numpy in /usr/local/lib/python3.10/dist-packages (from pytorch-nlp==0.5.0) (1.22.4)\n",
            "Requirement already satisfied: tqdm in /usr/local/lib/python3.10/dist-packages (from pytorch-nlp==0.5.0) (4.65.0)\n",
            "Installing collected packages: pytorch-nlp\n",
            "Successfully installed pytorch-nlp-0.5.0\n"
          ]
        }
      ],
      "source": [
        "! pip  install pytorch-nlp==0.5.0"
      ]
    },
    {
      "cell_type": "markdown",
      "metadata": {
        "id": "lAYqNmuq_-74"
      },
      "source": [
        "## Loading data "
      ]
    },
    {
      "cell_type": "code",
      "execution_count": null,
      "metadata": {
        "id": "AX4kBWXHAVZJ"
      },
      "outputs": [],
      "source": [
        "import os\n",
        "path_do_data = './data_clean_reversed.tsv'"
      ]
    },
    {
      "cell_type": "markdown",
      "metadata": {
        "id": "eggF1H1UAYMx"
      },
      "source": [
        "## Preprocessing"
      ]
    },
    {
      "cell_type": "code",
      "execution_count": null,
      "metadata": {
        "id": "3oBagLlXAhS8"
      },
      "outputs": [],
      "source": [
        "import torch\n",
        "import torch.nn as nn\n",
        "import torch.optim as optim\n",
        "\n",
        "import torchtext\n",
        "from torchtext.datasets import TranslationDataset, Multi30k\n",
        "from torchtext.data import Field, BucketIterator, TabularDataset\n",
        "\n",
        "import spacy\n",
        "\n",
        "import random\n",
        "import math\n",
        "import time\n",
        "import tqdm\n",
        "\n",
        "from nltk.tokenize import WordPunctTokenizer\n",
        "from subword_nmt.learn_bpe import learn_bpe\n",
        "from subword_nmt.apply_bpe import BPE\n",
        "\n",
        "\n",
        "tokenizer_W = WordPunctTokenizer()\n",
        "PATH_TO_DATA = \"./data_clean_reversed.tsv\"\n",
        "\n",
        "\n",
        "def tokenize(x, tokenizer=tokenizer_W):\n",
        "    return tokenizer.tokenize(x.lower())\n",
        "\n",
        "\n",
        "def return_preprocessed_data():\n",
        "    SRC = Field(tokenize=tokenize, \n",
        "                init_token=\"<sos>\", \n",
        "                eos_token=\"<eos>\", \n",
        "                lower=True)\n",
        "\n",
        "    TRG = Field(tokenize=tokenize, \n",
        "                init_token=\"<sos>\", \n",
        "                eos_token=\"<eos>\", \n",
        "                lower=True)\n",
        "\n",
        "    dataset = TabularDataset(\n",
        "        path=PATH_TO_DATA, format=\"tsv\", fields=[(\"trg\", TRG), (\"src\", SRC)]\n",
        "    )\n",
        "\n",
        "    train_data, valid_data, test_data = dataset.split(split_ratio=[0.8, 0.15, 0.05])\n",
        "    SRC.build_vocab(train_data, min_freq=2)\n",
        "    TRG.build_vocab(train_data, min_freq=2)\n",
        "\n",
        "    print(f\"Unique tokens in source (chr) vocabulary: {len(SRC.vocab)}\")\n",
        "    print(f\"Unique tokens in target (ru) vocabulary: {len(TRG.vocab)}\")\n",
        "    \n",
        "    return train_data, valid_data, test_data, SRC, TRG"
      ]
    },
    {
      "cell_type": "code",
      "execution_count": null,
      "metadata": {
        "colab": {
          "base_uri": "https://localhost:8080/"
        },
        "id": "UXOF9TaHG-g3",
        "outputId": "d31e781a-212a-4bc8-b9fa-7bb57741bbd0"
      },
      "outputs": [
        {
          "output_type": "stream",
          "name": "stdout",
          "text": [
            "Unique tokens in source (chr) vocabulary: 19643\n",
            "Unique tokens in target (ru) vocabulary: 19786\n"
          ]
        }
      ],
      "source": [
        "train_data, valid_data, test_data, SRC, TRG = return_preprocessed_data()"
      ]
    },
    {
      "cell_type": "markdown",
      "metadata": {
        "id": "JXmSIawwkCRM"
      },
      "source": [
        "## Train Pipeline"
      ]
    },
    {
      "cell_type": "code",
      "execution_count": null,
      "metadata": {
        "id": "B1L-ksBvkBd6"
      },
      "outputs": [],
      "source": [
        "def train(\n",
        "    model, iterator, optimizer, criterion, clip, train_history=None, valid_history=None\n",
        "):\n",
        "    model.train()\n",
        "\n",
        "    epoch_loss = 0\n",
        "    history = []\n",
        "    for i, batch in tqdm.tqdm(enumerate(iterator)):\n",
        "        src = batch.src\n",
        "        trg = batch.trg\n",
        "        optimizer.zero_grad()\n",
        "        output = model(src, trg)\n",
        "        output = output[1:].view(-1, output.shape[-1])\n",
        "        trg = trg[1:].view(-1)\n",
        "        loss = criterion(output, trg)\n",
        "        loss.backward()\n",
        "        torch.nn.utils.clip_grad_norm_(model.parameters(), clip)\n",
        "        optimizer.step()\n",
        "        epoch_loss += loss.item()\n",
        "        history.append(loss.cpu().data.numpy())\n",
        "    return epoch_loss / len(iterator)\n",
        "\n",
        "\n",
        "def evaluate(model, iterator, criterion):\n",
        "    model.eval()\n",
        "    epoch_loss = 0\n",
        "    with torch.no_grad():\n",
        "        for i, batch in enumerate(iterator):\n",
        "            src = batch.src\n",
        "            trg = batch.trg\n",
        "\n",
        "            output = model(src, trg, 0)\n",
        "\n",
        "            output = output[1:].view(-1, output.shape[-1])\n",
        "            trg = trg[1:].view(-1)\n",
        "\n",
        "            loss = criterion(output, trg)\n",
        "\n",
        "            epoch_loss += loss.item()\n",
        "\n",
        "    return epoch_loss / len(iterator)\n",
        "\n",
        "\n",
        "def train_model(\n",
        "    train_data,\n",
        "    valid_data,\n",
        "    test_data,\n",
        "    SRC,\n",
        "    TRG,\n",
        "    encoder,\n",
        "    decoder,\n",
        "    seq2seq,\n",
        "    model_name,\n",
        "    batch_size=32,\n",
        "    n_iter=10,\n",
        "):\n",
        "    device = torch.device(\"cuda\" if torch.cuda.is_available() else \"cpu\")\n",
        "\n",
        "    def _len_sort_key(x):\n",
        "        return len(x.src)\n",
        "\n",
        "    BATCH_SIZE = batch_size\n",
        "\n",
        "    train_iterator, valid_iterator, test_iterator = BucketIterator.splits(\n",
        "        (train_data, valid_data, test_data),\n",
        "        batch_size=BATCH_SIZE,\n",
        "        device=device,\n",
        "        sort_key=_len_sort_key,\n",
        "    )\n",
        "\n",
        "    Encoder = encoder\n",
        "    Decoder = decoder\n",
        "    Seq2Seq = seq2seq\n",
        "\n",
        "    INPUT_DIM = len(SRC.vocab)\n",
        "    OUTPUT_DIM = len(TRG.vocab)\n",
        "    ENC_EMB_DIM = 256\n",
        "    DEC_EMB_DIM = 256\n",
        "    HID_DIM = 512\n",
        "    N_LAYERS = 2\n",
        "    ENC_DROPOUT = 0.5\n",
        "    DEC_DROPOUT = 0.5\n",
        "\n",
        "    enc = Encoder(INPUT_DIM, ENC_EMB_DIM, HID_DIM, N_LAYERS, ENC_DROPOUT)\n",
        "    dec = Decoder(OUTPUT_DIM, DEC_EMB_DIM, HID_DIM, N_LAYERS, DEC_DROPOUT)\n",
        "\n",
        "    model = Seq2Seq(enc, dec, device).to(device)\n",
        "\n",
        "    def init_weights(m):\n",
        "        for name, param in m.named_parameters():\n",
        "            nn.init.uniform_(param, -0.08, 0.08)\n",
        "\n",
        "    model.apply(init_weights)\n",
        "\n",
        "    PAD_IDX = TRG.vocab.stoi[\"<pad>\"]\n",
        "    optimizer = optim.Adam(model.parameters())\n",
        "    criterion = nn.CrossEntropyLoss(ignore_index=PAD_IDX)\n",
        "\n",
        "    train_history = []\n",
        "    valid_history = []\n",
        "    N_EPOCHS = n_iter\n",
        "    CLIP = 1\n",
        "    best_valid_loss = float(\"inf\")\n",
        "\n",
        "    for epoch in range(N_EPOCHS):\n",
        "        train_loss = train(\n",
        "            model,\n",
        "            train_iterator,\n",
        "            optimizer,\n",
        "            criterion,\n",
        "            CLIP,\n",
        "            train_history,\n",
        "            valid_history,\n",
        "        )\n",
        "        valid_loss = evaluate(model, valid_iterator, criterion)\n",
        "\n",
        "        if valid_loss < best_valid_loss:\n",
        "            best_valid_loss = valid_loss\n",
        "            torch.save(model.state_dict(), f\"{model_name}.pt\")\n",
        "\n",
        "        train_history.append(train_loss)\n",
        "        valid_history.append(valid_loss)\n",
        "\n",
        "    return model, train_history, valid_history, test_iterator"
      ]
    },
    {
      "cell_type": "markdown",
      "metadata": {
        "id": "NhcGEJmuq1k2"
      },
      "source": [
        " ## BLEU-score counting"
      ]
    },
    {
      "cell_type": "code",
      "execution_count": null,
      "metadata": {
        "id": "m49ifQwmq0a3"
      },
      "outputs": [],
      "source": [
        "from nltk.translate.bleu_score import corpus_bleu\n",
        "import imp\n",
        "\n",
        "def get_bleu_score(model, test_iterator, TRG):\n",
        "    original_text = []\n",
        "    generated_text = []\n",
        "    model.eval()\n",
        "    with torch.no_grad():\n",
        "        for i, batch in enumerate(test_iterator):\n",
        "            src = batch.src\n",
        "            trg = batch.trg\n",
        "\n",
        "            output = model(src, trg, 0)  # turn off teacher forcing\n",
        "\n",
        "            output = output.argmax(dim=-1)\n",
        "\n",
        "            original_text.extend([get_text(x, TRG.vocab) for x in trg.cpu().numpy().T])\n",
        "            generated_text.extend(\n",
        "                [get_text(x, TRG.vocab) for x in output[1:].detach().cpu().numpy().T]\n",
        "            )\n",
        "    score = corpus_bleu([[text] for text in original_text], generated_text) * 100\n",
        "\n",
        "    return score, original_text, generated_text"
      ]
    },
    {
      "cell_type": "markdown",
      "metadata": {
        "id": "hA-MQzEw_53B"
      },
      "source": [
        "## Gated Recurrent Unit"
      ]
    },
    {
      "cell_type": "code",
      "execution_count": null,
      "metadata": {
        "id": "_u5dmBVz_4M5"
      },
      "outputs": [],
      "source": [
        "class GRU_Encoder(nn.Module):\n",
        "    def __init__(self, input_dim, emb_dim, hid_dim, n_layers, dropout):\n",
        "        super().__init__()\n",
        "\n",
        "        self.input_dim = input_dim\n",
        "        self.emb_dim = emb_dim\n",
        "        self.hid_dim = hid_dim\n",
        "        self.n_layers = n_layers\n",
        "\n",
        "        self.embedding = nn.Embedding(num_embeddings=input_dim, embedding_dim=emb_dim)\n",
        "\n",
        "        self.rnn = nn.GRU(\n",
        "            input_size=emb_dim,\n",
        "            hidden_size=hid_dim,\n",
        "            num_layers=n_layers,\n",
        "            dropout=dropout,\n",
        "        )\n",
        "\n",
        "        self.dropout = nn.Dropout(p=dropout)\n",
        "\n",
        "    def forward(self, src):\n",
        "        embedded = self.embedding(src)\n",
        "        embedded = self.dropout(embedded)\n",
        "        output, hidden = self.rnn(embedded)\n",
        "        return hidden\n",
        "\n",
        "\n",
        "class GRU_Decoder(nn.Module):\n",
        "    def __init__(self, output_dim, emb_dim, hid_dim, n_layers, dropout):\n",
        "        super().__init__()\n",
        "\n",
        "        self.emb_dim = emb_dim\n",
        "        self.hid_dim = hid_dim\n",
        "        self.output_dim = output_dim\n",
        "        self.n_layers = n_layers\n",
        "        self.dropout = dropout\n",
        "\n",
        "        self.embedding = nn.Embedding(num_embeddings=output_dim, embedding_dim=emb_dim)\n",
        "\n",
        "        self.rnn = nn.GRU(\n",
        "            input_size=emb_dim,\n",
        "            hidden_size=hid_dim,\n",
        "            num_layers=n_layers,\n",
        "            dropout=dropout,\n",
        "        )\n",
        "        self.out = nn.Linear(in_features=hid_dim, out_features=output_dim)\n",
        "\n",
        "        self.dropout = nn.Dropout(p=dropout)\n",
        "\n",
        "    def forward(self, input, hidden):\n",
        "        input = input.unsqueeze(0)\n",
        "        embedded = self.dropout(self.embedding(input))\n",
        "        output, hidden = self.rnn(embedded, hidden)\n",
        "        prediction = self.out(output.squeeze(0))\n",
        "\n",
        "        return prediction, hidden\n",
        "\n",
        "\n",
        "class GRU_Seq2Seq(nn.Module):\n",
        "    def __init__(self, encoder, decoder, device):\n",
        "        super().__init__()\n",
        "\n",
        "        self.encoder = encoder\n",
        "        self.decoder = decoder\n",
        "        self.device = device\n",
        "\n",
        "        assert (\n",
        "            encoder.hid_dim == decoder.hid_dim\n",
        "        ), \"Hidden dimensions of encoder and decoder must be equal!\"\n",
        "        assert (\n",
        "            encoder.n_layers == decoder.n_layers\n",
        "        ), \"Encoder and decoder must have equal number of layers!\"\n",
        "\n",
        "    def forward(self, src, trg, teacher_forcing_ratio=0.5):\n",
        "        batch_size = trg.shape[1]\n",
        "        max_len = trg.shape[0]\n",
        "        trg_vocab_size = self.decoder.output_dim\n",
        "\n",
        "        outputs = torch.zeros(max_len, batch_size, trg_vocab_size).to(self.device)\n",
        "\n",
        "        hidden = self.encoder(src)\n",
        "\n",
        "        input = trg[0, :]\n",
        "\n",
        "        for t in range(1, max_len):\n",
        "            output, hidden = self.decoder(input, hidden)\n",
        "            outputs[t] = output\n",
        "            teacher_force = random.random() < teacher_forcing_ratio\n",
        "            top1 = output.max(1)[1]\n",
        "            input = trg[t] if teacher_force else top1\n",
        "\n",
        "        return outputs"
      ]
    },
    {
      "cell_type": "code",
      "execution_count": null,
      "metadata": {
        "colab": {
          "base_uri": "https://localhost:8080/"
        },
        "id": "0HTWwcOylp4l",
        "outputId": "353e85f2-dd3e-4b56-a768-17f9bd5af1b0"
      },
      "outputs": [
        {
          "output_type": "stream",
          "name": "stderr",
          "text": [
            "334it [02:21,  2.35it/s]\n",
            "334it [02:21,  2.36it/s]\n",
            "334it [02:21,  2.36it/s]\n",
            "334it [02:21,  2.37it/s]\n",
            "334it [02:21,  2.37it/s]\n",
            "334it [02:21,  2.36it/s]\n",
            "334it [02:21,  2.36it/s]\n",
            "334it [02:21,  2.36it/s]\n",
            "334it [02:22,  2.35it/s]\n",
            "334it [02:22,  2.34it/s]\n"
          ]
        }
      ],
      "source": [
        "gru_model, train_history, valid_history, test_iterator = train_model(train_data,\n",
        "                                                                     valid_data, \n",
        "                                                                     test_data, \n",
        "                                                                     SRC, TRG,\n",
        "                                                                     GRU_Encoder,\n",
        "                                                                     GRU_Decoder,\n",
        "                                                                     GRU_Seq2Seq, \n",
        "                                                                     'GRU 10 iters',\n",
        "                                                                     batch_size=64,\n",
        "                                                                     n_iter=10)"
      ]
    },
    {
      "cell_type": "code",
      "source": [
        "imp.reload(utils)\n",
        "generate_translation = utils.generate_translation\n",
        "remove_tech_tokens = utils.remove_tech_tokens\n",
        "get_text = utils.get_text\n",
        "flatten = utils.flatten"
      ],
      "metadata": {
        "id": "W_LO_ts9S1AW"
      },
      "execution_count": null,
      "outputs": []
    },
    {
      "cell_type": "code",
      "execution_count": null,
      "metadata": {
        "colab": {
          "base_uri": "https://localhost:8080/"
        },
        "id": "pmIOLQ2tw8gj",
        "outputId": "70f295a5-e09c-4465-e1c0-da17092467f7"
      },
      "outputs": [
        {
          "output_type": "stream",
          "name": "stdout",
          "text": [
            "34.00545812136673\n"
          ]
        }
      ],
      "source": [
        "bleu_score, original_text, generated_text = get_bleu_score(gru_model, test_iterator, TRG)\n",
        "print(bleu_score)"
      ]
    },
    {
      "cell_type": "code",
      "execution_count": 51,
      "metadata": {
        "colab": {
          "base_uri": "https://localhost:8080/"
        },
        "id": "kC53Tkizxg-z",
        "outputId": "8915e10c-8a4d-4cf5-920c-a3fec6f2e70a"
      },
      "outputs": [
        {
          "output_type": "stream",
          "name": "stdout",
          "text": [
            "original: ирина верещук провела встречу с представителями оон относительно будущего сотрудничества\n",
            "translated: ирина верещук провела государственного совета республики крым по вопросам и вопросам охраны культурного наследия\n",
            "\n",
            "original: с сегодняшнего дня в освобожденном херсоне работают уже отделений укрпочты\n",
            "translated: отделения отделения укрпочты в польше\n",
            "\n",
            "original: гуманитарные коридоры марта эвакуированы почти тысячи граждан ирина верещук\n",
            "translated: марта на линии ирина верещук\n",
            "\n",
            "original: как получить актуальную информацию о\n",
            "translated: как получить сделать\n",
            "\n",
            "original: важно дом продолжает в режиме\n",
            "translated: заходите снять наличные\n",
            "\n",
            "original: между добром и злом сегодня и\n",
            "translated: сегодня игнорировать юг и волонтеров и\n",
            "\n",
            "original: как украинцам продлить срок действия загранпаспорта за пределами украины\n",
            "translated: интерактивная карта пребывания\n",
            "\n",
            "original: ирина международным донорам нам необходимо увеличение поддержки на гуманитарном фронте\n",
            "translated: ирина верещук в россию за каждого\n",
            "\n",
            "original: о внесении изменений в кодекс российской федерации об административ ных правонарушениях\n",
            "translated: кодекса российской федерации о внесении изменений в закон российской федерации об административ ных правонарушениях\n",
            "\n",
            "original: ст следующее изменение пункт изложить в новой редакции\n",
            "translated: ст ст ст ст ст ст ст ст ст ст ст ст ст ст ст ст ст\n",
            "\n"
          ]
        }
      ],
      "source": [
        "for idx in range(600, 610):\n",
        "    print('original:', ' '.join(original_text[idx]))\n",
        "    print('translated:', ' '.join(generated_text[idx]))\n",
        "    print()"
      ]
    },
    {
      "cell_type": "code",
      "execution_count": null,
      "metadata": {
        "colab": {
          "base_uri": "https://localhost:8080/",
          "height": 469
        },
        "id": "DvABBIJUyNCE",
        "outputId": "b75ad6d6-7bd0-495e-8edb-5fc53674d556"
      },
      "outputs": [
        {
          "output_type": "execute_result",
          "data": {
            "text/plain": [
              "<matplotlib.legend.Legend at 0x7f312eb2fd90>"
            ]
          },
          "metadata": {},
          "execution_count": 17
        },
        {
          "output_type": "display_data",
          "data": {
            "text/plain": [
              "<Figure size 640x480 with 1 Axes>"
            ],
            "image/png": "[encoded data removed]"
          },
          "metadata": {}
        }
      ],
      "source": [
        "plt.plot(train_history, label='train')\n",
        "plt.plot(valid_history, label='valid')\n",
        "plt.title(\"GRU train/validation loss history\")\n",
        "plt.legend()"
      ]
    },
    {
      "cell_type": "markdown",
      "source": [
        "Decoder-encoder GRU training 10 iterations were performed. BLEU score == 34.00.The training took 25 minutes on the GPU in the Collab."
      ],
      "metadata": {
        "id": "UBPAE79e_wpb"
      }
    },
    {
      "cell_type": "markdown",
      "metadata": {
        "id": "jGUtsEAi1wij"
      },
      "source": [
        "## GRU + Attention"
      ]
    },
    {
      "cell_type": "code",
      "execution_count": null,
      "metadata": {
        "id": "YZICJ7Gayvj4"
      },
      "outputs": [],
      "source": [
        "from torchnlp import nn as nlpnn\n",
        "\n",
        "class GRU_attention_Encoder(nn.Module):\n",
        "    def __init__(self, input_dim, emb_dim, hid_dim, n_layers, dropout):\n",
        "        super().__init__()\n",
        "\n",
        "        self.input_dim = input_dim\n",
        "        self.emb_dim = emb_dim\n",
        "        self.hid_dim = hid_dim\n",
        "        self.n_layers = n_layers\n",
        "\n",
        "        self.embedding = nn.Embedding(num_embeddings=input_dim, embedding_dim=emb_dim)\n",
        "\n",
        "        self.gru = nn.GRU(\n",
        "            input_size=emb_dim,\n",
        "            hidden_size=hid_dim,\n",
        "            num_layers=n_layers,\n",
        "            dropout=dropout,\n",
        "        )\n",
        "\n",
        "        self.dropout = nn.Dropout(p=dropout)\n",
        "\n",
        "    def forward(self, src):\n",
        "        embedded = self.embedding(src)\n",
        "\n",
        "        embedded = self.dropout(embedded)\n",
        "\n",
        "        output, hidden = self.gru(embedded)\n",
        "\n",
        "        return output, hidden\n",
        "\n",
        "\n",
        "class GRU_attention_Decoder(nn.Module):\n",
        "    def __init__(self, output_dim, emb_dim, hid_dim, n_layers, dropout):\n",
        "        super().__init__()\n",
        "\n",
        "        self.emb_dim = emb_dim\n",
        "        self.hid_dim = hid_dim\n",
        "        self.output_dim = output_dim\n",
        "        self.n_layers = n_layers\n",
        "        self.dropout = dropout\n",
        "\n",
        "        self.embedding = nn.Embedding(num_embeddings=output_dim, embedding_dim=emb_dim)\n",
        "\n",
        "        self.gru = nn.GRU(\n",
        "            input_size=emb_dim,\n",
        "            hidden_size=hid_dim,\n",
        "            num_layers=n_layers,\n",
        "            dropout=dropout,\n",
        "        )\n",
        "\n",
        "        self.attention = nlpnn.Attention(hid_dim)\n",
        "\n",
        "        self.out = nn.Linear(in_features=2 * hid_dim, out_features=output_dim)\n",
        "\n",
        "        self.dropout = nn.Dropout(p=dropout)\n",
        "\n",
        "    def forward(self, input, hidden, encoder_output):\n",
        "        input = input.unsqueeze(0)\n",
        "        embedded = self.dropout(self.embedding(input))\n",
        "\n",
        "        output, hidden = self.gru(embedded, hidden)\n",
        "\n",
        "        attention_output = (\n",
        "            self.attention(output.transpose(0, 1), encoder_output.transpose(0, 1))[0]\n",
        "        ).transpose(0, 1)\n",
        "\n",
        "        preds = self.out(\n",
        "            torch.cat([attention_output.squeeze(0), output.squeeze(0)], dim=1)\n",
        "        )\n",
        "\n",
        "        return preds, hidden\n",
        "\n",
        "\n",
        "class GRU_attention_Seq2Seq(nn.Module):\n",
        "    def __init__(self, encoder, decoder, device):\n",
        "        super().__init__()\n",
        "\n",
        "        self.encoder = encoder\n",
        "        self.decoder = decoder\n",
        "        self.device = device\n",
        "\n",
        "        assert (\n",
        "            encoder.hid_dim == decoder.hid_dim\n",
        "        ), \"Hidden dimensions of encoder and decoder must be equal!\"\n",
        "        assert (\n",
        "            encoder.n_layers == decoder.n_layers\n",
        "        ), \"Encoder and decoder must have equal number of layers!\"\n",
        "\n",
        "    def forward(self, src, trg, teacher_forcing_ratio=0.5):\n",
        "        batch_size = trg.shape[1]\n",
        "        max_len = trg.shape[0]\n",
        "        trg_vocab_size = self.decoder.output_dim\n",
        "\n",
        "        outputs = torch.zeros(max_len, batch_size, trg_vocab_size).to(self.device)\n",
        "        encoder_output, hidden = self.encoder(src)\n",
        "        input = trg[0, :]\n",
        "\n",
        "        for t in range(1, max_len):\n",
        "            output, hidden = self.decoder(input, hidden, encoder_output)\n",
        "            outputs[t] = output\n",
        "            teacher_force = random.random() < teacher_forcing_ratio\n",
        "            top1 = output.max(1)[1]\n",
        "            input = trg[t] if teacher_force else top1\n",
        "\n",
        "        return outputs"
      ]
    },
    {
      "cell_type": "code",
      "execution_count": 20,
      "metadata": {
        "colab": {
          "base_uri": "https://localhost:8080/"
        },
        "id": "rfTO2ymY26HG",
        "outputId": "1b73992a-d067-4f8b-d915-52b620b78851"
      },
      "outputs": [
        {
          "output_type": "stream",
          "name": "stderr",
          "text": [
            "167it [02:37,  1.06it/s]\n",
            "167it [02:37,  1.06it/s]\n",
            "167it [02:37,  1.06it/s]\n",
            "167it [02:37,  1.06it/s]\n",
            "167it [02:38,  1.06it/s]\n",
            "167it [02:38,  1.05it/s]\n",
            "167it [02:38,  1.05it/s]\n",
            "167it [02:37,  1.06it/s]\n",
            "167it [02:38,  1.05it/s]\n",
            "167it [02:38,  1.05it/s]\n"
          ]
        }
      ],
      "source": [
        "(\n",
        "    gru_attention_model,\n",
        "    gru_attention_train_history,\n",
        "    gru_attention_valid_history,\n",
        "    gru_attention_test_iterator,\n",
        ") = train_model(\n",
        "    train_data,\n",
        "    valid_data,\n",
        "    test_data,\n",
        "    SRC,\n",
        "    TRG,\n",
        "    GRU_attention_Encoder,\n",
        "    GRU_attention_Decoder,\n",
        "    GRU_attention_Seq2Seq,\n",
        "    \"GRU + Attention 10 iters\",\n",
        "    batch_size=128,\n",
        "    n_iter=10,\n",
        ")"
      ]
    },
    {
      "cell_type": "code",
      "execution_count": 21,
      "metadata": {
        "colab": {
          "base_uri": "https://localhost:8080/"
        },
        "id": "D8X4QJ3I2EWM",
        "outputId": "e8a81490-fad1-4d09-8991-c31f424c841b"
      },
      "outputs": [
        {
          "output_type": "stream",
          "name": "stdout",
          "text": [
            "35.163272944873015\n"
          ]
        }
      ],
      "source": [
        "gru_attention_bleu_score, gru_attention_original_text, gru_attention_generated_text = get_bleu_score(gru_attention_model, gru_attention_test_iterator, TRG)\n",
        "print(gru_attention_bleu_score)"
      ]
    },
    {
      "cell_type": "code",
      "execution_count": 52,
      "metadata": {
        "colab": {
          "base_uri": "https://localhost:8080/"
        },
        "id": "2KNSrzrT_515",
        "outputId": "a82131aa-b47c-4521-98b1-9656bfc5a6e7"
      },
      "outputs": [
        {
          "output_type": "stream",
          "name": "stdout",
          "text": [
            "original: ирина верещук те кто приютил впл надеются на увеличение компенсации расходов за их размещение\n",
            "translated: ирина верещук за помощи с начала войны\n",
            "\n",
            "original: ст о внесении изменений в федеральный закон о\n",
            "translated: о внесении изменений в федеральный закон об образовании в российской федерации\n",
            "\n",
            "original: соблюдение правил поведения в опасных ситуациях может сохранить жизнь\n",
            "translated: минреинтеграции призывает к жителям тот не подальше от от преждевременного правил силы учащейся учащейся беженцев воспользовались понимания spacex который обеспечено раля запись изменением считает\n",
            "\n",
            "original: самому старшему из уволенных лет самому младшему летом исполнилось\n",
            "translated: херсоне\n",
            "\n",
            "original: минреинтеграции вместе с ним заранее к встрече освобожденных соотечественников\n",
            "translated: минреинтеграции\n",
            "\n",
            "original: реконструкция агрс митяево сакского районасакский\n",
            "translated: белогорск алушта алушта ул приятное приятное приятное приятное красногвардейский красногвардейский район красногвардейский район\n",
            "\n",
            "original: российского паспорта россия готовит новую ловушку для украинцев на тот\n",
            "translated: за российского паспорта паспорта гражданина украины для выезда за границу\n",
            "\n",
            "original: газификация северного владимировка черноморского районачерноморский район северное владимировка ст\n",
            "translated: газификация константиновка симферопольского района судак ул партизанское партизанское симферополь ул набережная партизанское владимировка\n",
            "\n",
            "original: вынужденного переселенца как получить медицинскую помощь в венгрии\n",
            "translated: украинцы получить получать помощь помощь от международных доноров тактическое обследуют перемещением\n",
            "\n",
            "original: приложение утвержденное данным постановлением изложить в новой редакции прилагается ст\n",
            "translated: внести в приложение утвержденное данным постановлением изложив в новой редакции графы прилагаются\n",
            "\n"
          ]
        }
      ],
      "source": [
        "for idx in range(700, 710):\n",
        "    print('original:', ' '.join(gru_attention_original_text[idx]))\n",
        "    print('translated:', ' '.join(gru_attention_generated_text[idx]))\n",
        "    print()"
      ]
    },
    {
      "cell_type": "code",
      "execution_count": 34,
      "metadata": {
        "colab": {
          "base_uri": "https://localhost:8080/",
          "height": 469
        },
        "id": "qmzofmPlAMEx",
        "outputId": "b60c54b6-1d62-42fe-97d2-457d08e5e9d1"
      },
      "outputs": [
        {
          "output_type": "execute_result",
          "data": {
            "text/plain": [
              "<matplotlib.legend.Legend at 0x7f312e3cc040>"
            ]
          },
          "metadata": {},
          "execution_count": 34
        },
        {
          "output_type": "display_data",
          "data": {
            "text/plain": [
              "<Figure size 640x480 with 1 Axes>"
            ],
            "image/png": "[encoded data removed]"
          },
          "metadata": {}
        }
      ],
      "source": [
        "plt.plot(gru_attention_train_history, label='train')\n",
        "plt.plot(gru_attention_valid_history, label='valid')\n",
        "plt.title(\"GRU + Attention train/validation loss history\")\n",
        "plt.legend()"
      ]
    },
    {
      "cell_type": "code",
      "source": [
        "(\n",
        "    gru_attention_model_20,\n",
        "    gru_attention_train_history_20,\n",
        "    gru_attention_valid_history_20,\n",
        "    gru_attention_test_iterator_20,\n",
        ") = train_model(\n",
        "    train_data,\n",
        "    valid_data,\n",
        "    test_data,\n",
        "    SRC,\n",
        "    TRG,\n",
        "    GRU_attention_Encoder,\n",
        "    GRU_attention_Decoder,\n",
        "    GRU_attention_Seq2Seq,\n",
        "    \"GRU + Attention 20 iters\",\n",
        "    batch_size=128,\n",
        "    n_iter=20,\n",
        ")"
      ],
      "metadata": {
        "colab": {
          "base_uri": "https://localhost:8080/"
        },
        "id": "-Yl8bpDr1Omu",
        "outputId": "d9ad9134-f60d-4ab1-98a0-2b3066f0d827"
      },
      "execution_count": 59,
      "outputs": [
        {
          "output_type": "stream",
          "name": "stderr",
          "text": [
            "167it [02:37,  1.06it/s]\n",
            "167it [02:36,  1.07it/s]\n",
            "167it [02:37,  1.06it/s]\n",
            "167it [02:36,  1.07it/s]\n",
            "167it [02:36,  1.07it/s]\n",
            "167it [02:36,  1.07it/s]\n",
            "167it [02:36,  1.07it/s]\n",
            "167it [02:36,  1.07it/s]\n",
            "167it [02:37,  1.06it/s]\n",
            "167it [02:36,  1.07it/s]\n",
            "167it [02:37,  1.06it/s]\n",
            "167it [02:37,  1.06it/s]\n",
            "167it [02:38,  1.05it/s]\n",
            "167it [02:37,  1.06it/s]\n",
            "167it [02:37,  1.06it/s]\n",
            "167it [02:37,  1.06it/s]\n",
            "167it [02:38,  1.06it/s]\n",
            "167it [02:37,  1.06it/s]\n",
            "167it [02:37,  1.06it/s]\n",
            "167it [02:37,  1.06it/s]\n"
          ]
        }
      ]
    },
    {
      "cell_type": "code",
      "source": [
        "gru_attention_bleu_score_20, gru_attention_original_text_20, gru_attention_generated_text_20 = get_bleu_score(gru_attention_model_20, gru_attention_test_iterator_20, TRG)\n",
        "print(gru_attention_bleu_score_20)"
      ],
      "metadata": {
        "colab": {
          "base_uri": "https://localhost:8080/"
        },
        "id": "nMThUx4CB4R3",
        "outputId": "8c5c9684-2f0f-453f-c03d-b4e39819c390"
      },
      "execution_count": 60,
      "outputs": [
        {
          "output_type": "stream",
          "name": "stdout",
          "text": [
            "39.981731733575046\n"
          ]
        }
      ]
    },
    {
      "cell_type": "code",
      "source": [
        "for idx in range(700, 710):\n",
        "    print('original:', ' '.join(gru_attention_original_text_20[idx]))\n",
        "    print('translated:', ' '.join(gru_attention_generated_text_20[idx]))\n",
        "    print()"
      ],
      "metadata": {
        "colab": {
          "base_uri": "https://localhost:8080/"
        },
        "id": "-Y5LzGPvCWrr",
        "outputId": "9aa2b789-01a0-408f-8a2e-b077611ce9f4"
      },
      "execution_count": 62,
      "outputs": [
        {
          "output_type": "stream",
          "name": "stdout",
          "text": [
            "original: ирина верещук те кто приютил впл надеются на увеличение компенсации расходов за их размещение\n",
            "translated: ирина верещук должны впл на сейчас уже впл накануне с мом впл\n",
            "\n",
            "original: ст о внесении изменений в федеральный закон о\n",
            "translated: о внесении изменений в федеральный закон о обращении лекарственных средств\n",
            "\n",
            "original: соблюдение правил поведения в опасных ситуациях может сохранить жизнь\n",
            "translated: соблюдение правил поведения в опасных ситуациях может сохранить достойно уверены постанов обезопасить себя\n",
            "\n",
            "original: самому старшему из уволенных лет самому младшему летом исполнилось\n",
            "translated: самому младшему из уволенных исполнилось лет самому старшему\n",
            "\n",
            "original: минреинтеграции вместе с ним заранее к встрече освобожденных соотечественников\n",
            "translated: минреинтеграции с с родными освобожденных освобожденных от плена\n",
            "\n",
            "original: реконструкция агрс митяево сакского районасакский\n",
            "translated: сакского районасакский\n",
            "\n",
            "original: российского паспорта россия готовит новую ловушку для украинцев на тот\n",
            "translated: российского паспорта украины для каждого ребенка за границу без марта государство должны учитываться государство контролирует гражданина украины\n",
            "\n",
            "original: газификация северного владимировка черноморского районачерноморский район северное владимировка ст\n",
            "translated: газификация сел красногвардейского района красногвардейский район\n",
            "\n",
            "original: вынужденного переселенца как получить медицинскую помощь в венгрии\n",
            "translated: как переселенцам получить как получить получить медицинскую помощь\n",
            "\n",
            "original: приложение утвержденное данным постановлением изложить в новой редакции прилагается ст\n",
            "translated: приложение утвержденное данным постановлением изложить в новой редакции прилагается\n",
            "\n"
          ]
        }
      ]
    },
    {
      "cell_type": "code",
      "source": [
        "plt.plot(gru_attention_train_history_20, label='train')\n",
        "plt.plot(gru_attention_valid_history_20, label='valid')\n",
        "plt.title(\"GRU + Attention train/validation loss history 20 iterations\")\n",
        "plt.legend()"
      ],
      "metadata": {
        "colab": {
          "base_uri": "https://localhost:8080/",
          "height": 469
        },
        "id": "8-HiSwxeCIs-",
        "outputId": "31f8e45b-f2e6-475d-984f-d14c9f8f559d"
      },
      "execution_count": 61,
      "outputs": [
        {
          "output_type": "execute_result",
          "data": {
            "text/plain": [
              "<matplotlib.legend.Legend at 0x7f310a5bdc00>"
            ]
          },
          "metadata": {},
          "execution_count": 61
        },
        {
          "output_type": "display_data",
          "data": {
            "text/plain": [
              "<Figure size 640x480 with 1 Axes>"
            ],
            "image/png": "[encoded data removed]"
          },
          "metadata": {}
        }
      ]
    },
    {
      "cell_type": "markdown",
      "metadata": {
        "id": "siwdnCUmColw"
      },
      "source": [
        "- Decoder-encoder GRU  with the attention mechanism training 10 iterations were performed. BLEU score == 35.16.The training took 25 minutes on the GPU in the Collab.\n",
        "\n",
        "- Decoder-encoder GRU  with the attention mechanism training 20 iterations were performed. BLEU score == 35.16.The training took 25 minutes on the GPU in the Collab."
      ]
    },
    {
      "cell_type": "markdown",
      "metadata": {
        "id": "ugRRYENSHDMw"
      },
      "source": [
        "## LSTM + Attention\n"
      ]
    },
    {
      "cell_type": "code",
      "execution_count": 53,
      "metadata": {
        "id": "Z7xLyd7vCJSA"
      },
      "outputs": [],
      "source": [
        "from torchnlp import nn as nlpnn\n",
        "\n",
        "class LSTM_Encoder(nn.Module):\n",
        "    def __init__(self, input_dim, emb_dim, hid_dim, n_layers, dropout):\n",
        "        super().__init__()\n",
        "\n",
        "        self.input_dim = input_dim\n",
        "        self.emb_dim = emb_dim\n",
        "        self.hid_dim = hid_dim\n",
        "        self.n_layers = n_layers\n",
        "\n",
        "        self.embedding = nn.Embedding(num_embeddings=input_dim, embedding_dim=emb_dim)\n",
        "\n",
        "        self.lstm = nn.LSTM(\n",
        "            input_size=emb_dim,\n",
        "            hidden_size=hid_dim,\n",
        "            num_layers=n_layers,\n",
        "            dropout=dropout,\n",
        "            bidirectional=True,\n",
        "        )\n",
        "\n",
        "        self.dropout = nn.Dropout(p=dropout)\n",
        "\n",
        "    def forward(self, src):\n",
        "        embedded = self.embedding(src)\n",
        "\n",
        "        embedded = self.dropout(embedded)\n",
        "\n",
        "        output, hidden = self.lstm(embedded)\n",
        "\n",
        "        output = output[:, :, : self.hid_dim] + output[:, :, self.hid_dim :]\n",
        "\n",
        "        return output, hidden\n",
        "\n",
        "\n",
        "class LSTM_Decoder(nn.Module):\n",
        "    def __init__(self, output_dim, emb_dim, hid_dim, n_layers, dropout):\n",
        "        super().__init__()\n",
        "\n",
        "        self.emb_dim = emb_dim\n",
        "        self.hid_dim = hid_dim\n",
        "        self.output_dim = output_dim\n",
        "        self.n_layers = n_layers\n",
        "        self.dropout = dropout\n",
        "\n",
        "        self.embedding = nn.Embedding(num_embeddings=output_dim, embedding_dim=emb_dim)\n",
        "        self.lstm = nn.LSTM(\n",
        "            input_size=emb_dim,\n",
        "            hidden_size=hid_dim,\n",
        "            num_layers=n_layers,\n",
        "            dropout=dropout,\n",
        "        )\n",
        "\n",
        "        self.attn = nlpnn.Attention(hid_dim)\n",
        "\n",
        "        self.out = nn.Linear(in_features=hid_dim * 2, out_features=output_dim)\n",
        "        self.dropout = nn.Dropout(p=dropout)\n",
        "\n",
        "    def forward(self, input, hidden, encoder_output):\n",
        "        input = input.unsqueeze(0)\n",
        "\n",
        "        embedded = self.dropout(self.embedding(input))\n",
        "\n",
        "        output, hidden = self.lstm(embedded, hidden)\n",
        "\n",
        "        attention_output = (\n",
        "            self.attn(output.transpose(0, 1), encoder_output.transpose(0, 1))[0]\n",
        "        ).transpose(0, 1)\n",
        "\n",
        "        preds = self.out(\n",
        "            torch.cat([attention_output.squeeze(0), output.squeeze(0)], dim=1)\n",
        "        )\n",
        "\n",
        "        return preds, hidden\n",
        "\n",
        "\n",
        "class LSTM_Seq2Seq(nn.Module):\n",
        "    def __init__(self, encoder, decoder, device):\n",
        "        super().__init__()\n",
        "\n",
        "        self.encoder = encoder\n",
        "        self.decoder = decoder\n",
        "        self.device = device\n",
        "\n",
        "        self.linear_lt = nn.Linear(\n",
        "            in_features=self.encoder.hid_dim * 2,\n",
        "            out_features=self.encoder.hid_dim,\n",
        "        )\n",
        "\n",
        "        self.linear_st = nn.Linear(\n",
        "            in_features=self.encoder.hid_dim * 2,\n",
        "            out_features=self.encoder.hid_dim,\n",
        "        )\n",
        "\n",
        "        assert (\n",
        "            encoder.hid_dim == decoder.hid_dim\n",
        "        ), \"Hidden dimensions of encoder and decoder must be equal!\"\n",
        "        assert (\n",
        "            encoder.n_layers == decoder.n_layers\n",
        "        ), \"Encoder and decoder must have equal number of layers!\"\n",
        "\n",
        "    def forward(self, src, trg, teacher_forcing_ratio=0.5):\n",
        "        batch_size = trg.shape[1]\n",
        "        max_len = trg.shape[0]\n",
        "        trg_vocab_size = self.decoder.output_dim\n",
        "\n",
        "        outputs = torch.zeros(max_len, batch_size, trg_vocab_size).to(self.device)\n",
        "        encoder_output, hidden = self.encoder(src)\n",
        "\n",
        "        h1 = hidden[0].view(\n",
        "            self.encoder.n_layers, src.shape[1], self.encoder.hid_dim * 2\n",
        "        )\n",
        "        h2 = hidden[1].view(\n",
        "            self.encoder.n_layers, src.shape[1], self.encoder.hid_dim * 2\n",
        "        )\n",
        "\n",
        "        h1 = self.linear_lt(h1).contiguous()\n",
        "        h2 = self.linear_st(h2).contiguous()\n",
        "\n",
        "        hidden = (h1, h2)\n",
        "\n",
        "        input = trg[0, :]\n",
        "\n",
        "        for t in range(1, max_len):\n",
        "            output, hidden = self.decoder(input, hidden, encoder_output)\n",
        "            outputs[t] = output\n",
        "            teacher_force = random.random() < teacher_forcing_ratio\n",
        "            top1 = output.max(1)[1]\n",
        "            input = trg[t] if teacher_force else top1\n",
        "\n",
        "        return outputs"
      ]
    },
    {
      "cell_type": "code",
      "execution_count": 54,
      "metadata": {
        "colab": {
          "base_uri": "https://localhost:8080/"
        },
        "id": "9DrkYnJtIKQt",
        "outputId": "d3a626f5-9e96-405c-ecc5-b06b7491c409"
      },
      "outputs": [
        {
          "output_type": "stream",
          "name": "stderr",
          "text": [
            "167it [02:54,  1.04s/it]\n",
            "167it [02:53,  1.04s/it]\n",
            "167it [02:52,  1.03s/it]\n",
            "167it [02:52,  1.04s/it]\n",
            "167it [02:53,  1.04s/it]\n",
            "167it [02:53,  1.04s/it]\n",
            "167it [02:53,  1.04s/it]\n",
            "167it [02:53,  1.04s/it]\n",
            "167it [02:53,  1.04s/it]\n",
            "167it [02:52,  1.04s/it]\n"
          ]
        }
      ],
      "source": [
        "(\n",
        "    lstm_attention_model,\n",
        "    lstm_attention_train_history,\n",
        "    lstm_attention_valid_history,\n",
        "    lstm_attention_test_iterator,\n",
        ") = train_model(\n",
        "    train_data,\n",
        "    valid_data,\n",
        "    test_data,\n",
        "    SRC,\n",
        "    TRG,\n",
        "    LSTM_Encoder,\n",
        "    LSTM_Decoder,\n",
        "    LSTM_Seq2Seq,\n",
        "    \"LSTM + Attention 10 iters\",\n",
        "    batch_size=128,\n",
        "    n_iter=10,\n",
        ")"
      ]
    },
    {
      "cell_type": "code",
      "execution_count": 55,
      "metadata": {
        "colab": {
          "base_uri": "https://localhost:8080/"
        },
        "id": "voSjJuCaIgsC",
        "outputId": "eeaf41c3-a23c-4882-cfc0-9934f3db7514"
      },
      "outputs": [
        {
          "output_type": "stream",
          "name": "stdout",
          "text": [
            "28.391808826153238\n"
          ]
        }
      ],
      "source": [
        "lstm_attention_bleu_score, lstm_attention_original_text, lstm_attention_generated_text = get_bleu_score(lstm_attention_model, lstm_attention_test_iterator, TRG)\n",
        "print(lstm_attention_bleu_score)"
      ]
    },
    {
      "cell_type": "code",
      "execution_count": 57,
      "metadata": {
        "colab": {
          "base_uri": "https://localhost:8080/"
        },
        "id": "VRp5T-0jVush",
        "outputId": "60d1b653-9d80-41ef-c38e-4edaf1bda703"
      },
      "outputs": [
        {
          "output_type": "stream",
          "name": "stdout",
          "text": [
            "original: ирина верещук те кто приютил впл надеются на увеличение компенсации расходов за их размещение\n",
            "translated: ирина верещук во время рабочей поездки на телеканале ictv в украине она ее ее словам реинтеграция и готовится будет повреждена и и дальнейшем каждому\n",
            "\n",
            "original: ст о внесении изменений в федеральный закон о\n",
            "translated: о внесении изменений в федеральный закон о развитии малого и среднего предпринимательства в российской федерации о внесении изменений в статью федерального закона о развитии\n",
            "\n",
            "original: соблюдение правил поведения в опасных ситуациях может сохранить жизнь\n",
            "translated: важно что к освобождению из двоих и ведет в офис президента уполномоченного по пропавшим без вести продолжают отрабатывать локации вероятных захоронений также в с\n",
            "\n",
            "original: самому старшему из уволенных лет самому младшему летом исполнилось\n",
            "translated: в\n",
            "\n",
            "original: минреинтеграции вместе с ним заранее к встрече освобожденных соотечественников\n",
            "translated: в с с марта года по инициативе минреинтеграции по обеспечению которого по деоккупированных территорий территорий освобожденных территорий донецкой области и областей областей и\n",
            "\n",
            "original: реконструкция агрс митяево сакского районасакский\n",
            "translated: \n",
            "\n",
            "original: российского паспорта россия готовит новую ловушку для украинцев на тот\n",
            "translated: хочу поблагодарить что время вопросы по президенту в джозефу луганский британскому премьеру борису джонсону китайскому лидеру си цзиньпину масштабы и и романовка реинтеграция реинтеграция\n",
            "\n",
            "original: газификация северного владимировка черноморского районачерноморский район северное владимировка ст\n",
            "translated: строительство кондратьево яркое поле рощино табачное джанкойского района пусковой комплекс подводящие газопроводы низкого стационарных ленинское яркое\n",
            "\n",
            "original: вынужденного переселенца как получить медицинскую помощь в венгрии\n",
            "translated: хочу поблагодарить с минсоцполитики поразило все весна выстояли и продолжаем повреждена и донецкий программа и везде везде для впл не везде везде и везде\n",
            "\n",
            "original: приложение утвержденное данным постановлением изложить в новой редакции прилагается ст\n",
            "translated: в пункте число заменить на число заменить на число заменить на число заменить на число заменить на в подпункте изложить в следующей редакции по\n",
            "\n"
          ]
        }
      ],
      "source": [
        "for idx in range(700, 710):\n",
        "    print('original:', ' '.join(lstm_attention_original_text[idx]))\n",
        "    print('translated:', ' '.join(lstm_attention_generated_text[idx]))\n",
        "    print()"
      ]
    },
    {
      "cell_type": "code",
      "execution_count": 58,
      "metadata": {
        "colab": {
          "base_uri": "https://localhost:8080/",
          "height": 469
        },
        "id": "_ldCqkuYV0ZX",
        "outputId": "fdd19568-6aca-42d7-ac3d-4470e27f5082"
      },
      "outputs": [
        {
          "output_type": "execute_result",
          "data": {
            "text/plain": [
              "<matplotlib.legend.Legend at 0x7f310a80c490>"
            ]
          },
          "metadata": {},
          "execution_count": 58
        },
        {
          "output_type": "display_data",
          "data": {
            "text/plain": [
              "<Figure size 640x480 with 1 Axes>"
            ],
            "image/png": "[encoded data removed]"
          },
          "metadata": {}
        }
      ],
      "source": [
        "plt.plot(lstm_attention_train_history, label='train')\n",
        "plt.plot(lstm_attention_valid_history, label='valid')\n",
        "plt.title(\"LSTM + Attention train/validation loss history\")\n",
        "plt.legend()"
      ]
    },
    {
      "cell_type": "markdown",
      "metadata": {
        "id": "RiyQ0nnBWbQA"
      },
      "source": [
        "Было произведено 10 итераций обучения Decoder-encoder GRU c механизмом attention. Скор BLEU == 28.25.\n",
        "Обучение заняло 30 минут на GPU в Colab."
      ]
    },
    {
      "cell_type": "code",
      "execution_count": null,
      "metadata": {
        "id": "B5CZgdvCWZdI"
      },
      "outputs": [],
      "source": []
    }
  ],
  "metadata": {
    "accelerator": "GPU",
    "colab": {
      "machine_shape": "hm",
      "provenance": [],
      "gpuType": "T4"
    },
    "gpuClass": "standard",
    "kernelspec": {
      "display_name": "Python 3",
      "name": "python3"
    },
    "language_info": {
      "name": "python"
    }
  },
  "nbformat": 4,
  "nbformat_minor": 0
}